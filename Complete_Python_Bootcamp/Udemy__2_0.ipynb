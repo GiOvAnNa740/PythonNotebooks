{
  "cells": [
    {
      "cell_type": "markdown",
      "metadata": {
        "id": "zZv5kG7E93JI"
      },
      "source": [
        "**Complete Python Bootcamp - #2.0 - Statements**\n",
        "---"
      ]
    },
    {
      "cell_type": "markdown",
      "metadata": {
        "id": "trwmF8sx-Ru6"
      },
      "source": [
        " #2.1 - If, Elif and Else\n",
        "---"
      ]
    },
    {
      "cell_type": "code",
      "execution_count": null,
      "metadata": {
        "id": "TxaKctzirK-B"
      },
      "outputs": [],
      "source": [
        "if some_condition:\n",
        "  #execute some code\n",
        "elif: some_other_condition\n",
        "  #do something different\n",
        "else:\n",
        "  #do something else"
      ]
    },
    {
      "cell_type": "code",
      "execution_count": null,
      "metadata": {
        "colab": {
          "base_uri": "https://localhost:8080/"
        },
        "id": "GhI1XqOM-yCm",
        "outputId": "1a0cf3f8-46f6-40c2-973d-12bce0685979"
      },
      "outputs": [
        {
          "name": "stdout",
          "output_type": "stream",
          "text": [
            "Feed me!\n"
          ]
        }
      ],
      "source": [
        "hungry = True\n",
        "\n",
        "if hungry: # it's implicit that the statement verifies if it's true\n",
        "  print('Feed me!')\n",
        "else:\n",
        "  print(\"I'm not hungry\")"
      ]
    },
    {
      "cell_type": "code",
      "execution_count": 1,
      "metadata": {},
      "outputs": [
        {
          "name": "stdout",
          "output_type": "stream",
          "text": [
            "I'm lost\n"
          ]
        }
      ],
      "source": [
        "loc='mall'\n",
        "\n",
        "if loc =='supermarket':\n",
        "  print(\"I'm not here\")\n",
        "elif loc == 'bank':\n",
        "  print(\"I'm here\")\n",
        "else:\n",
        "  print(\"I'm lost\")"
      ]
    },
    {
      "attachments": {},
      "cell_type": "markdown",
      "metadata": {},
      "source": [
        " #2.2 - If, Elif and Else\n",
        "---"
      ]
    },
    {
      "attachments": {},
      "cell_type": "markdown",
      "metadata": {},
      "source": [
        "You can use loops with anything that is iterable\n",
        "\n",
        "Ex: Lists, Dictionaries (keys), Strings.."
      ]
    },
    {
      "cell_type": "code",
      "execution_count": 2,
      "metadata": {},
      "outputs": [
        {
          "name": "stdout",
          "output_type": "stream",
          "text": [
            "1\n",
            "2\n",
            "3\n"
          ]
        }
      ],
      "source": [
        "my_iterable = [1,2,3]\n",
        "for item_name in my_iterable: #the item name will be asigned to each index on the iterable object. Does not need to be declared first\n",
        "  #do something\n",
        "  print(item_name)"
      ]
    },
    {
      "cell_type": "code",
      "execution_count": 2,
      "metadata": {},
      "outputs": [
        {
          "name": "stdout",
          "output_type": "stream",
          "text": [
            "Hello\n",
            "Hello\n",
            "Hello\n",
            "Hello\n"
          ]
        }
      ],
      "source": [
        "mylist=[1,2,3,4]\n",
        "\n",
        "# The item does not need to be used in the output, it will work as a counter\n",
        "for num in mylist:\n",
        "  print(\"Hello\")"
      ]
    },
    {
      "cell_type": "code",
      "execution_count": 4,
      "metadata": {},
      "outputs": [
        {
          "name": "stdout",
          "output_type": "stream",
          "text": [
            "1 2 3 4 "
          ]
        }
      ],
      "source": [
        "for num in mylist:\n",
        "  print(num, end=\" \") #end indicates what to do after each value"
      ]
    },
    {
      "cell_type": "code",
      "execution_count": 5,
      "metadata": {},
      "outputs": [
        {
          "name": "stdout",
          "output_type": "stream",
          "text": [
            "2\n",
            "4\n"
          ]
        }
      ],
      "source": [
        "for num in mylist:\n",
        "  #Check for even\n",
        "  if num % 2 == 0:\n",
        "    print(num)"
      ]
    },
    {
      "cell_type": "code",
      "execution_count": 8,
      "metadata": {},
      "outputs": [
        {
          "name": "stdout",
          "output_type": "stream",
          "text": [
            "0 2 4 6 8 10 12 14 16 18 "
          ]
        }
      ],
      "source": [
        "for num in range(20):\n",
        "    #also check for even\n",
        "    if num % 2 == 0:\n",
        "        print(num, end=\" \")"
      ]
    }
  ],
  "metadata": {
    "colab": {
      "provenance": []
    },
    "kernelspec": {
      "display_name": "Python 3.9.13 64-bit (microsoft store)",
      "language": "python",
      "name": "python3"
    },
    "language_info": {
      "codemirror_mode": {
        "name": "ipython",
        "version": 3
      },
      "file_extension": ".py",
      "mimetype": "text/x-python",
      "name": "python",
      "nbconvert_exporter": "python",
      "pygments_lexer": "ipython3",
      "version": "3.9.13"
    },
    "vscode": {
      "interpreter": {
        "hash": "ea6e64f2409e8d1aad035b517afa5d7288b59435ef8e27ec4a88ca9998af4977"
      }
    }
  },
  "nbformat": 4,
  "nbformat_minor": 0
}
