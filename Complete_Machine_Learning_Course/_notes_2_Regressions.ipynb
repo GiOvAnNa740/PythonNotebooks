{
 "cells": [
  {
   "attachments": {},
   "cell_type": "markdown",
   "metadata": {},
   "source": [
    "## Regularized Method for Regression\n",
    "\n",
    "    Ways to better calculate the coefficient dealing with outliers   "
   ]
  },
  {
   "attachments": {},
   "cell_type": "markdown",
   "metadata": {},
   "source": [
    "-   Ridge Regression\n",
    "-   Least Absolute Shrinkage and Selection Operator (LASSO)\n",
    "-   Elastic Net"
   ]
  },
  {
   "attachments": {},
   "cell_type": "markdown",
   "metadata": {},
   "source": [
    "### Ridge Regression\n",
    "\n",
    "Imposes a penaulty on the size of the coefficients, penalizing residual sum of squares"
   ]
  },
  {
   "attachments": {},
   "cell_type": "markdown",
   "metadata": {},
   "source": [
    "### LASSO Regression\n",
    "\n",
    "Linar model trained with $l_{1}$ prior as regulizer"
   ]
  },
  {
   "attachments": {},
   "cell_type": "markdown",
   "metadata": {},
   "source": [
    "### Elastic Net\n",
    "\n",
    "Linear Regression model trained with $L_{1}$ and $L_{2}$ prior as regularizer"
   ]
  }
 ],
 "metadata": {
  "kernelspec": {
   "display_name": "Python 3",
   "language": "python",
   "name": "python3"
  },
  "language_info": {
   "name": "python",
   "version": "3.9.13"
  },
  "orig_nbformat": 4
 },
 "nbformat": 4,
 "nbformat_minor": 2
}
