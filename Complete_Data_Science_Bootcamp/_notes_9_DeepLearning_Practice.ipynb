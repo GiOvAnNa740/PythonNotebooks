{
 "cells": [
  {
   "attachments": {},
   "cell_type": "markdown",
   "metadata": {},
   "source": [
    "# Practical Deep Learning - The MNIST Dataset\n",
    "\n",
    "\"Hello World\" of Machine Learning"
   ]
  },
  {
   "attachments": {},
   "cell_type": "markdown",
   "metadata": {},
   "source": [
    "The images are in Grayscale from 0 to 255, in which 0 corresponds to pure black, and 255 to pure white\n",
    "\n",
    "Each picture has 784 pixels, so our input layer will be an array of 784 inputs\n",
    "\n",
    "We will create 2 hidden layers with the same width, and an output layer with 10 units (since there are 10 digits to identify)"
   ]
  },
  {
   "attachments": {},
   "cell_type": "markdown",
   "metadata": {},
   "source": [
    "### Steps:\n",
    "\n",
    "-   1 - Prepare and preprocess the data. Split the Training, Validation and Test datasets.\n",
    "\n",
    "-   2 - Outline the model and choose the Activation Functions\n",
    "\n",
    "-   3 - Set the approapriate advamced optimizers and loss function\n",
    "\n",
    "-   4 - Train it and make it learn, validating in each epoch\n",
    "\n",
    "-   5 - Test the accuracy"
   ]
  },
  {
   "attachments": {},
   "cell_type": "markdown",
   "metadata": {},
   "source": [
    "Imports"
   ]
  },
  {
   "cell_type": "code",
   "execution_count": 3,
   "metadata": {},
   "outputs": [
    {
     "name": "stderr",
     "output_type": "stream",
     "text": [
      "C:\\Users\\Pichau\\AppData\\Local\\Packages\\PythonSoftwareFoundation.Python.3.9_qbz5n2kfra8p0\\LocalCache\\local-packages\\Python39\\site-packages\\tqdm\\auto.py:22: TqdmWarning: IProgress not found. Please update jupyter and ipywidgets. See https://ipywidgets.readthedocs.io/en/stable/user_install.html\n",
      "  from .autonotebook import tqdm as notebook_tqdm\n"
     ]
    }
   ],
   "source": [
    "import numpy as np\n",
    "import tensorflow as tf\n",
    "\n",
    "import tensorflow_datasets as tfds"
   ]
  },
  {
   "attachments": {},
   "cell_type": "markdown",
   "metadata": {},
   "source": [
    "Loading the dataset"
   ]
  },
  {
   "cell_type": "code",
   "execution_count": 5,
   "metadata": {},
   "outputs": [],
   "source": [
    "mnist_ds, mnist_info = tfds.load(name='mnist', #loading the dataset from 'tensorflow_datasets'\n",
    "                     as_supervised=True) # this will load the data in 2 tuples: input and target\n",
    "\n",
    "#Dataset stored at C:\\Users\\Pichau\\tensorflow_datasets"
   ]
  },
  {
   "attachments": {},
   "cell_type": "markdown",
   "metadata": {},
   "source": [
    "Splitting tha data"
   ]
  },
  {
   "cell_type": "code",
   "execution_count": null,
   "metadata": {},
   "outputs": [],
   "source": [
    "mnist_train, mnist_test = mnist_ds['train'], mnist_ds['test'] # by default tensors only split into train and test\n",
    "\n",
    "\n",
    "#splitting the validation samples from the train data\n",
    "\n",
    "num_val_samples = 0.1 * mnist_info.splits['train'].num_examples # this will return the total number of training samples divided by 10\n",
    "num_val_samples = tf.cast(num_val_samples,tf.int64) # since the previous result may not be an integer, here we overwrite it with 'tf.cast', to convert it to an integer\n",
    "\n",
    "num_test_samples = mnist_info.splits['test'].num_examples # this will return the total number of test samples\n",
    "num_test_samples = tf.cast(num_test_samples, tf.int64) # this is just to guarantee the output will be an integer"
   ]
  },
  {
   "attachments": {},
   "cell_type": "markdown",
   "metadata": {},
   "source": [
    "    ! tf.cast converts the values to a set data type"
   ]
  },
  {
   "attachments": {},
   "cell_type": "markdown",
   "metadata": {},
   "source": [
    "Function to scale the inputs"
   ]
  },
  {
   "cell_type": "code",
   "execution_count": null,
   "metadata": {},
   "outputs": [],
   "source": [
    "def scale(image, label):\n",
    "    image = tf.cast(image, tf.float32) #ensuring the values will be floats\n",
    "    image /= 255. # 'image = image/255' which is the total number of possible values for each pixel |\n",
    "#The dot at the end signifies the output values should also be a float32\n",
    "    return image, label\n",
    "\n",
    "\n",
    "scaled_train_validation_data = mnist_train.map(scale)"
   ]
  },
  {
   "attachments": {},
   "cell_type": "markdown",
   "metadata": {},
   "source": [
    "Shuffle the data\n",
    "\n",
    "Very important to prevent that the train set see only some of the possible values"
   ]
  },
  {
   "cell_type": "code",
   "execution_count": null,
   "metadata": {},
   "outputs": [],
   "source": []
  }
 ],
 "metadata": {
  "kernelspec": {
   "display_name": "Python 3",
   "language": "python",
   "name": "python3"
  },
  "language_info": {
   "codemirror_mode": {
    "name": "ipython",
    "version": 3
   },
   "file_extension": ".py",
   "mimetype": "text/x-python",
   "name": "python",
   "nbconvert_exporter": "python",
   "pygments_lexer": "ipython3",
   "version": "3.9.13"
  },
  "orig_nbformat": 4
 },
 "nbformat": 4,
 "nbformat_minor": 2
}
