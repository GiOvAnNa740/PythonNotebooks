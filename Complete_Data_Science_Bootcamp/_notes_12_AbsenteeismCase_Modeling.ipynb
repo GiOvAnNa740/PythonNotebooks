{
 "cells": [
  {
   "attachments": {},
   "cell_type": "markdown",
   "metadata": {},
   "source": [
    "### Importing and Loading the data"
   ]
  },
  {
   "cell_type": "code",
   "execution_count": 82,
   "metadata": {},
   "outputs": [],
   "source": [
    "import pandas as pd\n",
    "import numpy as np\n",
    "import seaborn as sns\n",
    "from sklearn.base import BaseEstimator,TransformerMixin\n",
    "from sklearn.preprocessing import StandardScaler\n",
    "from sklearn.model_selection import train_test_split\n",
    "from sklearn.linear_model import LogisticRegression\n",
    "from sklearn import metrics\n",
    "\n",
    "import pickle"
   ]
  },
  {
   "cell_type": "code",
   "execution_count": 83,
   "metadata": {},
   "outputs": [
    {
     "data": {
      "text/html": [
       "<div>\n",
       "<style scoped>\n",
       "    .dataframe tbody tr th:only-of-type {\n",
       "        vertical-align: middle;\n",
       "    }\n",
       "\n",
       "    .dataframe tbody tr th {\n",
       "        vertical-align: top;\n",
       "    }\n",
       "\n",
       "    .dataframe thead th {\n",
       "        text-align: right;\n",
       "    }\n",
       "</style>\n",
       "<table border=\"1\" class=\"dataframe\">\n",
       "  <thead>\n",
       "    <tr style=\"text-align: right;\">\n",
       "      <th></th>\n",
       "      <th>reasonCategory_1</th>\n",
       "      <th>reasonCategory_2</th>\n",
       "      <th>reasonCategory_3</th>\n",
       "      <th>reasonCategory_4</th>\n",
       "      <th>Month</th>\n",
       "      <th>Weekday</th>\n",
       "      <th>TranspExpense</th>\n",
       "      <th>DistanceToWork</th>\n",
       "      <th>Age</th>\n",
       "      <th>DailyWorkLoadAvg</th>\n",
       "      <th>BodyMassIndex</th>\n",
       "      <th>Education</th>\n",
       "      <th>Children</th>\n",
       "      <th>Pets</th>\n",
       "      <th>AbsenteeismTimeHours</th>\n",
       "    </tr>\n",
       "  </thead>\n",
       "  <tbody>\n",
       "    <tr>\n",
       "      <th>0</th>\n",
       "      <td>0</td>\n",
       "      <td>0</td>\n",
       "      <td>0</td>\n",
       "      <td>1</td>\n",
       "      <td>7</td>\n",
       "      <td>1</td>\n",
       "      <td>289</td>\n",
       "      <td>36</td>\n",
       "      <td>33</td>\n",
       "      <td>239.554</td>\n",
       "      <td>30</td>\n",
       "      <td>1</td>\n",
       "      <td>2</td>\n",
       "      <td>1</td>\n",
       "      <td>4</td>\n",
       "    </tr>\n",
       "    <tr>\n",
       "      <th>1</th>\n",
       "      <td>0</td>\n",
       "      <td>0</td>\n",
       "      <td>0</td>\n",
       "      <td>0</td>\n",
       "      <td>7</td>\n",
       "      <td>1</td>\n",
       "      <td>118</td>\n",
       "      <td>13</td>\n",
       "      <td>50</td>\n",
       "      <td>239.554</td>\n",
       "      <td>31</td>\n",
       "      <td>1</td>\n",
       "      <td>1</td>\n",
       "      <td>0</td>\n",
       "      <td>0</td>\n",
       "    </tr>\n",
       "    <tr>\n",
       "      <th>2</th>\n",
       "      <td>0</td>\n",
       "      <td>0</td>\n",
       "      <td>0</td>\n",
       "      <td>1</td>\n",
       "      <td>7</td>\n",
       "      <td>2</td>\n",
       "      <td>179</td>\n",
       "      <td>51</td>\n",
       "      <td>38</td>\n",
       "      <td>239.554</td>\n",
       "      <td>31</td>\n",
       "      <td>1</td>\n",
       "      <td>0</td>\n",
       "      <td>0</td>\n",
       "      <td>2</td>\n",
       "    </tr>\n",
       "    <tr>\n",
       "      <th>3</th>\n",
       "      <td>1</td>\n",
       "      <td>0</td>\n",
       "      <td>0</td>\n",
       "      <td>0</td>\n",
       "      <td>7</td>\n",
       "      <td>3</td>\n",
       "      <td>279</td>\n",
       "      <td>5</td>\n",
       "      <td>39</td>\n",
       "      <td>239.554</td>\n",
       "      <td>24</td>\n",
       "      <td>1</td>\n",
       "      <td>2</td>\n",
       "      <td>0</td>\n",
       "      <td>4</td>\n",
       "    </tr>\n",
       "    <tr>\n",
       "      <th>4</th>\n",
       "      <td>0</td>\n",
       "      <td>0</td>\n",
       "      <td>0</td>\n",
       "      <td>1</td>\n",
       "      <td>7</td>\n",
       "      <td>3</td>\n",
       "      <td>289</td>\n",
       "      <td>36</td>\n",
       "      <td>33</td>\n",
       "      <td>239.554</td>\n",
       "      <td>30</td>\n",
       "      <td>1</td>\n",
       "      <td>2</td>\n",
       "      <td>1</td>\n",
       "      <td>2</td>\n",
       "    </tr>\n",
       "    <tr>\n",
       "      <th>...</th>\n",
       "      <td>...</td>\n",
       "      <td>...</td>\n",
       "      <td>...</td>\n",
       "      <td>...</td>\n",
       "      <td>...</td>\n",
       "      <td>...</td>\n",
       "      <td>...</td>\n",
       "      <td>...</td>\n",
       "      <td>...</td>\n",
       "      <td>...</td>\n",
       "      <td>...</td>\n",
       "      <td>...</td>\n",
       "      <td>...</td>\n",
       "      <td>...</td>\n",
       "      <td>...</td>\n",
       "    </tr>\n",
       "    <tr>\n",
       "      <th>695</th>\n",
       "      <td>1</td>\n",
       "      <td>0</td>\n",
       "      <td>0</td>\n",
       "      <td>0</td>\n",
       "      <td>5</td>\n",
       "      <td>2</td>\n",
       "      <td>179</td>\n",
       "      <td>22</td>\n",
       "      <td>40</td>\n",
       "      <td>237.656</td>\n",
       "      <td>22</td>\n",
       "      <td>2</td>\n",
       "      <td>2</td>\n",
       "      <td>0</td>\n",
       "      <td>8</td>\n",
       "    </tr>\n",
       "    <tr>\n",
       "      <th>696</th>\n",
       "      <td>1</td>\n",
       "      <td>0</td>\n",
       "      <td>0</td>\n",
       "      <td>0</td>\n",
       "      <td>5</td>\n",
       "      <td>2</td>\n",
       "      <td>225</td>\n",
       "      <td>26</td>\n",
       "      <td>28</td>\n",
       "      <td>237.656</td>\n",
       "      <td>24</td>\n",
       "      <td>1</td>\n",
       "      <td>1</td>\n",
       "      <td>2</td>\n",
       "      <td>3</td>\n",
       "    </tr>\n",
       "    <tr>\n",
       "      <th>697</th>\n",
       "      <td>1</td>\n",
       "      <td>0</td>\n",
       "      <td>0</td>\n",
       "      <td>0</td>\n",
       "      <td>5</td>\n",
       "      <td>3</td>\n",
       "      <td>330</td>\n",
       "      <td>16</td>\n",
       "      <td>28</td>\n",
       "      <td>237.656</td>\n",
       "      <td>25</td>\n",
       "      <td>2</td>\n",
       "      <td>0</td>\n",
       "      <td>0</td>\n",
       "      <td>8</td>\n",
       "    </tr>\n",
       "    <tr>\n",
       "      <th>698</th>\n",
       "      <td>0</td>\n",
       "      <td>0</td>\n",
       "      <td>0</td>\n",
       "      <td>1</td>\n",
       "      <td>5</td>\n",
       "      <td>3</td>\n",
       "      <td>235</td>\n",
       "      <td>16</td>\n",
       "      <td>32</td>\n",
       "      <td>237.656</td>\n",
       "      <td>25</td>\n",
       "      <td>3</td>\n",
       "      <td>0</td>\n",
       "      <td>0</td>\n",
       "      <td>2</td>\n",
       "    </tr>\n",
       "    <tr>\n",
       "      <th>699</th>\n",
       "      <td>0</td>\n",
       "      <td>0</td>\n",
       "      <td>0</td>\n",
       "      <td>1</td>\n",
       "      <td>5</td>\n",
       "      <td>3</td>\n",
       "      <td>291</td>\n",
       "      <td>31</td>\n",
       "      <td>40</td>\n",
       "      <td>237.656</td>\n",
       "      <td>25</td>\n",
       "      <td>1</td>\n",
       "      <td>1</td>\n",
       "      <td>1</td>\n",
       "      <td>2</td>\n",
       "    </tr>\n",
       "  </tbody>\n",
       "</table>\n",
       "<p>700 rows × 15 columns</p>\n",
       "</div>"
      ],
      "text/plain": [
       "     reasonCategory_1  reasonCategory_2  reasonCategory_3  reasonCategory_4  \\\n",
       "0                   0                 0                 0                 1   \n",
       "1                   0                 0                 0                 0   \n",
       "2                   0                 0                 0                 1   \n",
       "3                   1                 0                 0                 0   \n",
       "4                   0                 0                 0                 1   \n",
       "..                ...               ...               ...               ...   \n",
       "695                 1                 0                 0                 0   \n",
       "696                 1                 0                 0                 0   \n",
       "697                 1                 0                 0                 0   \n",
       "698                 0                 0                 0                 1   \n",
       "699                 0                 0                 0                 1   \n",
       "\n",
       "     Month  Weekday  TranspExpense  DistanceToWork  Age  DailyWorkLoadAvg  \\\n",
       "0        7        1            289              36   33           239.554   \n",
       "1        7        1            118              13   50           239.554   \n",
       "2        7        2            179              51   38           239.554   \n",
       "3        7        3            279               5   39           239.554   \n",
       "4        7        3            289              36   33           239.554   \n",
       "..     ...      ...            ...             ...  ...               ...   \n",
       "695      5        2            179              22   40           237.656   \n",
       "696      5        2            225              26   28           237.656   \n",
       "697      5        3            330              16   28           237.656   \n",
       "698      5        3            235              16   32           237.656   \n",
       "699      5        3            291              31   40           237.656   \n",
       "\n",
       "     BodyMassIndex  Education  Children  Pets  AbsenteeismTimeHours  \n",
       "0               30          1         2     1                     4  \n",
       "1               31          1         1     0                     0  \n",
       "2               31          1         0     0                     2  \n",
       "3               24          1         2     0                     4  \n",
       "4               30          1         2     1                     2  \n",
       "..             ...        ...       ...   ...                   ...  \n",
       "695             22          2         2     0                     8  \n",
       "696             24          1         1     2                     3  \n",
       "697             25          2         0     0                     8  \n",
       "698             25          3         0     0                     2  \n",
       "699             25          1         1     1                     2  \n",
       "\n",
       "[700 rows x 15 columns]"
      ]
     },
     "execution_count": 83,
     "metadata": {},
     "output_type": "execute_result"
    }
   ],
   "source": [
    "data = pd.read_csv('db/Absenteeism-data-preprocessed.csv')\n",
    "data"
   ]
  },
  {
   "attachments": {},
   "cell_type": "markdown",
   "metadata": {},
   "source": [
    "## Logistc Regression"
   ]
  },
  {
   "cell_type": "code",
   "execution_count": 84,
   "metadata": {},
   "outputs": [
    {
     "data": {
      "text/plain": [
       "<AxesSubplot: >"
      ]
     },
     "execution_count": 84,
     "metadata": {},
     "output_type": "execute_result"
    },
    {
     "data": {
      "image/png": "[encoded data removed]",
      "text/plain": [
       "<Figure size 432x288 with 1 Axes>"
      ]
     },
     "metadata": {
      "needs_background": "light"
     },
     "output_type": "display_data"
    }
   ],
   "source": [
    "absentTime = sorted(data['AbsenteeismTimeHours'])\n",
    "    \n",
    "sns.lineplot(absentTime)"
   ]
  },
  {
   "cell_type": "code",
   "execution_count": 85,
   "metadata": {},
   "outputs": [
    {
     "data": {
      "text/plain": [
       "<AxesSubplot: >"
      ]
     },
     "execution_count": 85,
     "metadata": {},
     "output_type": "execute_result"
    },
    {
     "data": {
      "image/png": "[encoded data removed]",
      "text/plain": [
       "<Figure size 432x288 with 1 Axes>"
      ]
     },
     "metadata": {
      "needs_background": "light"
     },
     "output_type": "display_data"
    }
   ],
   "source": [
    "absentTime = sorted(data['AbsenteeismTimeHours'].unique())\n",
    "    \n",
    "sns.lineplot(absentTime)"
   ]
  },
  {
   "cell_type": "code",
   "execution_count": 86,
   "metadata": {},
   "outputs": [
    {
     "data": {
      "text/plain": [
       "3.0"
      ]
     },
     "execution_count": 86,
     "metadata": {},
     "output_type": "execute_result"
    }
   ],
   "source": [
    "data['AbsenteeismTimeHours'].median()"
   ]
  },
  {
   "cell_type": "code",
   "execution_count": 87,
   "metadata": {},
   "outputs": [
    {
     "data": {
      "text/plain": [
       "6.761428571428572"
      ]
     },
     "execution_count": 87,
     "metadata": {},
     "output_type": "execute_result"
    }
   ],
   "source": [
    "data['AbsenteeismTimeHours'].mean()"
   ]
  },
  {
   "attachments": {},
   "cell_type": "markdown",
   "metadata": {},
   "source": [
    "3 hours will be used as the Cut off time for the Absenteeism, more than this will be considered too much"
   ]
  },
  {
   "attachments": {},
   "cell_type": "markdown",
   "metadata": {},
   "source": [
    "### Setting the classes"
   ]
  },
  {
   "cell_type": "code",
   "execution_count": 88,
   "metadata": {},
   "outputs": [],
   "source": [
    "targets = np.where(data['AbsenteeismTimeHours'] > data['AbsenteeismTimeHours'].median(),\n",
    "                    1, 0)  # if the value is > 3 (median), return '1', else, return '0'"
   ]
  },
  {
   "attachments": {},
   "cell_type": "markdown",
   "metadata": {},
   "source": [
    "    Using the median as a parameter is a way to balance the dataset, since about half of the data will be '0' and the other half will be '1'.\n",
    "\n",
    "This will prevent the model from learning about only one type of data in expense of the other"
   ]
  },
  {
   "cell_type": "code",
   "execution_count": 89,
   "metadata": {},
   "outputs": [
    {
     "data": {
      "text/html": [
       "<div>\n",
       "<style scoped>\n",
       "    .dataframe tbody tr th:only-of-type {\n",
       "        vertical-align: middle;\n",
       "    }\n",
       "\n",
       "    .dataframe tbody tr th {\n",
       "        vertical-align: top;\n",
       "    }\n",
       "\n",
       "    .dataframe thead th {\n",
       "        text-align: right;\n",
       "    }\n",
       "</style>\n",
       "<table border=\"1\" class=\"dataframe\">\n",
       "  <thead>\n",
       "    <tr style=\"text-align: right;\">\n",
       "      <th></th>\n",
       "      <th>reasonCategory_1</th>\n",
       "      <th>reasonCategory_2</th>\n",
       "      <th>reasonCategory_3</th>\n",
       "      <th>reasonCategory_4</th>\n",
       "      <th>Month</th>\n",
       "      <th>Weekday</th>\n",
       "      <th>TranspExpense</th>\n",
       "      <th>Age</th>\n",
       "      <th>DailyWorkLoadAvg</th>\n",
       "      <th>Education</th>\n",
       "      <th>Children</th>\n",
       "      <th>Pets</th>\n",
       "      <th>AbsenteeismExcess</th>\n",
       "    </tr>\n",
       "  </thead>\n",
       "  <tbody>\n",
       "    <tr>\n",
       "      <th>0</th>\n",
       "      <td>0</td>\n",
       "      <td>0</td>\n",
       "      <td>0</td>\n",
       "      <td>1</td>\n",
       "      <td>7</td>\n",
       "      <td>1</td>\n",
       "      <td>289</td>\n",
       "      <td>33</td>\n",
       "      <td>239.554</td>\n",
       "      <td>1</td>\n",
       "      <td>2</td>\n",
       "      <td>1</td>\n",
       "      <td>1</td>\n",
       "    </tr>\n",
       "    <tr>\n",
       "      <th>1</th>\n",
       "      <td>0</td>\n",
       "      <td>0</td>\n",
       "      <td>0</td>\n",
       "      <td>0</td>\n",
       "      <td>7</td>\n",
       "      <td>1</td>\n",
       "      <td>118</td>\n",
       "      <td>50</td>\n",
       "      <td>239.554</td>\n",
       "      <td>1</td>\n",
       "      <td>1</td>\n",
       "      <td>0</td>\n",
       "      <td>0</td>\n",
       "    </tr>\n",
       "    <tr>\n",
       "      <th>2</th>\n",
       "      <td>0</td>\n",
       "      <td>0</td>\n",
       "      <td>0</td>\n",
       "      <td>1</td>\n",
       "      <td>7</td>\n",
       "      <td>2</td>\n",
       "      <td>179</td>\n",
       "      <td>38</td>\n",
       "      <td>239.554</td>\n",
       "      <td>1</td>\n",
       "      <td>0</td>\n",
       "      <td>0</td>\n",
       "      <td>0</td>\n",
       "    </tr>\n",
       "    <tr>\n",
       "      <th>3</th>\n",
       "      <td>1</td>\n",
       "      <td>0</td>\n",
       "      <td>0</td>\n",
       "      <td>0</td>\n",
       "      <td>7</td>\n",
       "      <td>3</td>\n",
       "      <td>279</td>\n",
       "      <td>39</td>\n",
       "      <td>239.554</td>\n",
       "      <td>1</td>\n",
       "      <td>2</td>\n",
       "      <td>0</td>\n",
       "      <td>1</td>\n",
       "    </tr>\n",
       "    <tr>\n",
       "      <th>4</th>\n",
       "      <td>0</td>\n",
       "      <td>0</td>\n",
       "      <td>0</td>\n",
       "      <td>1</td>\n",
       "      <td>7</td>\n",
       "      <td>3</td>\n",
       "      <td>289</td>\n",
       "      <td>33</td>\n",
       "      <td>239.554</td>\n",
       "      <td>1</td>\n",
       "      <td>2</td>\n",
       "      <td>1</td>\n",
       "      <td>0</td>\n",
       "    </tr>\n",
       "    <tr>\n",
       "      <th>...</th>\n",
       "      <td>...</td>\n",
       "      <td>...</td>\n",
       "      <td>...</td>\n",
       "      <td>...</td>\n",
       "      <td>...</td>\n",
       "      <td>...</td>\n",
       "      <td>...</td>\n",
       "      <td>...</td>\n",
       "      <td>...</td>\n",
       "      <td>...</td>\n",
       "      <td>...</td>\n",
       "      <td>...</td>\n",
       "      <td>...</td>\n",
       "    </tr>\n",
       "    <tr>\n",
       "      <th>695</th>\n",
       "      <td>1</td>\n",
       "      <td>0</td>\n",
       "      <td>0</td>\n",
       "      <td>0</td>\n",
       "      <td>5</td>\n",
       "      <td>2</td>\n",
       "      <td>179</td>\n",
       "      <td>40</td>\n",
       "      <td>237.656</td>\n",
       "      <td>2</td>\n",
       "      <td>2</td>\n",
       "      <td>0</td>\n",
       "      <td>1</td>\n",
       "    </tr>\n",
       "    <tr>\n",
       "      <th>696</th>\n",
       "      <td>1</td>\n",
       "      <td>0</td>\n",
       "      <td>0</td>\n",
       "      <td>0</td>\n",
       "      <td>5</td>\n",
       "      <td>2</td>\n",
       "      <td>225</td>\n",
       "      <td>28</td>\n",
       "      <td>237.656</td>\n",
       "      <td>1</td>\n",
       "      <td>1</td>\n",
       "      <td>2</td>\n",
       "      <td>0</td>\n",
       "    </tr>\n",
       "    <tr>\n",
       "      <th>697</th>\n",
       "      <td>1</td>\n",
       "      <td>0</td>\n",
       "      <td>0</td>\n",
       "      <td>0</td>\n",
       "      <td>5</td>\n",
       "      <td>3</td>\n",
       "      <td>330</td>\n",
       "      <td>28</td>\n",
       "      <td>237.656</td>\n",
       "      <td>2</td>\n",
       "      <td>0</td>\n",
       "      <td>0</td>\n",
       "      <td>1</td>\n",
       "    </tr>\n",
       "    <tr>\n",
       "      <th>698</th>\n",
       "      <td>0</td>\n",
       "      <td>0</td>\n",
       "      <td>0</td>\n",
       "      <td>1</td>\n",
       "      <td>5</td>\n",
       "      <td>3</td>\n",
       "      <td>235</td>\n",
       "      <td>32</td>\n",
       "      <td>237.656</td>\n",
       "      <td>3</td>\n",
       "      <td>0</td>\n",
       "      <td>0</td>\n",
       "      <td>0</td>\n",
       "    </tr>\n",
       "    <tr>\n",
       "      <th>699</th>\n",
       "      <td>0</td>\n",
       "      <td>0</td>\n",
       "      <td>0</td>\n",
       "      <td>1</td>\n",
       "      <td>5</td>\n",
       "      <td>3</td>\n",
       "      <td>291</td>\n",
       "      <td>40</td>\n",
       "      <td>237.656</td>\n",
       "      <td>1</td>\n",
       "      <td>1</td>\n",
       "      <td>1</td>\n",
       "      <td>0</td>\n",
       "    </tr>\n",
       "  </tbody>\n",
       "</table>\n",
       "<p>700 rows × 13 columns</p>\n",
       "</div>"
      ],
      "text/plain": [
       "     reasonCategory_1  reasonCategory_2  reasonCategory_3  reasonCategory_4  \\\n",
       "0                   0                 0                 0                 1   \n",
       "1                   0                 0                 0                 0   \n",
       "2                   0                 0                 0                 1   \n",
       "3                   1                 0                 0                 0   \n",
       "4                   0                 0                 0                 1   \n",
       "..                ...               ...               ...               ...   \n",
       "695                 1                 0                 0                 0   \n",
       "696                 1                 0                 0                 0   \n",
       "697                 1                 0                 0                 0   \n",
       "698                 0                 0                 0                 1   \n",
       "699                 0                 0                 0                 1   \n",
       "\n",
       "     Month  Weekday  TranspExpense  Age  DailyWorkLoadAvg  Education  \\\n",
       "0        7        1            289   33           239.554          1   \n",
       "1        7        1            118   50           239.554          1   \n",
       "2        7        2            179   38           239.554          1   \n",
       "3        7        3            279   39           239.554          1   \n",
       "4        7        3            289   33           239.554          1   \n",
       "..     ...      ...            ...  ...               ...        ...   \n",
       "695      5        2            179   40           237.656          2   \n",
       "696      5        2            225   28           237.656          1   \n",
       "697      5        3            330   28           237.656          2   \n",
       "698      5        3            235   32           237.656          3   \n",
       "699      5        3            291   40           237.656          1   \n",
       "\n",
       "     Children  Pets  AbsenteeismExcess  \n",
       "0           2     1                  1  \n",
       "1           1     0                  0  \n",
       "2           0     0                  0  \n",
       "3           2     0                  1  \n",
       "4           2     1                  0  \n",
       "..        ...   ...                ...  \n",
       "695         2     0                  1  \n",
       "696         1     2                  0  \n",
       "697         0     0                  1  \n",
       "698         0     0                  0  \n",
       "699         1     1                  0  \n",
       "\n",
       "[700 rows x 13 columns]"
      ]
     },
     "execution_count": 89,
     "metadata": {},
     "output_type": "execute_result"
    }
   ],
   "source": [
    "data = data.drop(['AbsenteeismTimeHours','DistanceToWork','BodyMassIndex'], axis=1)\n",
    "\n",
    "data['AbsenteeismExcess'] = targets\n",
    "\n",
    "data"
   ]
  },
  {
   "attachments": {},
   "cell_type": "markdown",
   "metadata": {},
   "source": [
    "It does not need to be a perfect 50/50%. A ratio of 55/45% is already acceptable"
   ]
  },
  {
   "cell_type": "code",
   "execution_count": 90,
   "metadata": {},
   "outputs": [
    {
     "data": {
      "text/plain": [
       "0.45571428571428574"
      ]
     },
     "execution_count": 90,
     "metadata": {},
     "output_type": "execute_result"
    }
   ],
   "source": [
    "targets.sum() / len(targets)"
   ]
  },
  {
   "cell_type": "code",
   "execution_count": 91,
   "metadata": {},
   "outputs": [
    {
     "data": {
      "text/plain": [
       "0    381\n",
       "1    319\n",
       "Name: AbsenteeismExcess, dtype: int64"
      ]
     },
     "execution_count": 91,
     "metadata": {},
     "output_type": "execute_result"
    }
   ],
   "source": [
    "data['AbsenteeismExcess'].value_counts()"
   ]
  },
  {
   "attachments": {},
   "cell_type": "markdown",
   "metadata": {},
   "source": [
    "### Checkpoint 1"
   ]
  },
  {
   "cell_type": "code",
   "execution_count": 92,
   "metadata": {},
   "outputs": [],
   "source": [
    "data_backup1 = data.copy()"
   ]
  },
  {
   "attachments": {},
   "cell_type": "markdown",
   "metadata": {},
   "source": [
    "DataFrame.iloc[row indices, column indices]"
   ]
  },
  {
   "cell_type": "code",
   "execution_count": 93,
   "metadata": {},
   "outputs": [
    {
     "data": {
      "text/html": [
       "<div>\n",
       "<style scoped>\n",
       "    .dataframe tbody tr th:only-of-type {\n",
       "        vertical-align: middle;\n",
       "    }\n",
       "\n",
       "    .dataframe tbody tr th {\n",
       "        vertical-align: top;\n",
       "    }\n",
       "\n",
       "    .dataframe thead th {\n",
       "        text-align: right;\n",
       "    }\n",
       "</style>\n",
       "<table border=\"1\" class=\"dataframe\">\n",
       "  <thead>\n",
       "    <tr style=\"text-align: right;\">\n",
       "      <th></th>\n",
       "      <th>reasonCategory_1</th>\n",
       "      <th>reasonCategory_2</th>\n",
       "      <th>reasonCategory_3</th>\n",
       "      <th>reasonCategory_4</th>\n",
       "      <th>Month</th>\n",
       "      <th>Weekday</th>\n",
       "      <th>TranspExpense</th>\n",
       "      <th>Age</th>\n",
       "      <th>DailyWorkLoadAvg</th>\n",
       "      <th>Education</th>\n",
       "      <th>Children</th>\n",
       "      <th>Pets</th>\n",
       "    </tr>\n",
       "  </thead>\n",
       "  <tbody>\n",
       "    <tr>\n",
       "      <th>0</th>\n",
       "      <td>0</td>\n",
       "      <td>0</td>\n",
       "      <td>0</td>\n",
       "      <td>1</td>\n",
       "      <td>7</td>\n",
       "      <td>1</td>\n",
       "      <td>289</td>\n",
       "      <td>33</td>\n",
       "      <td>239.554</td>\n",
       "      <td>1</td>\n",
       "      <td>2</td>\n",
       "      <td>1</td>\n",
       "    </tr>\n",
       "    <tr>\n",
       "      <th>1</th>\n",
       "      <td>0</td>\n",
       "      <td>0</td>\n",
       "      <td>0</td>\n",
       "      <td>0</td>\n",
       "      <td>7</td>\n",
       "      <td>1</td>\n",
       "      <td>118</td>\n",
       "      <td>50</td>\n",
       "      <td>239.554</td>\n",
       "      <td>1</td>\n",
       "      <td>1</td>\n",
       "      <td>0</td>\n",
       "    </tr>\n",
       "    <tr>\n",
       "      <th>2</th>\n",
       "      <td>0</td>\n",
       "      <td>0</td>\n",
       "      <td>0</td>\n",
       "      <td>1</td>\n",
       "      <td>7</td>\n",
       "      <td>2</td>\n",
       "      <td>179</td>\n",
       "      <td>38</td>\n",
       "      <td>239.554</td>\n",
       "      <td>1</td>\n",
       "      <td>0</td>\n",
       "      <td>0</td>\n",
       "    </tr>\n",
       "    <tr>\n",
       "      <th>3</th>\n",
       "      <td>1</td>\n",
       "      <td>0</td>\n",
       "      <td>0</td>\n",
       "      <td>0</td>\n",
       "      <td>7</td>\n",
       "      <td>3</td>\n",
       "      <td>279</td>\n",
       "      <td>39</td>\n",
       "      <td>239.554</td>\n",
       "      <td>1</td>\n",
       "      <td>2</td>\n",
       "      <td>0</td>\n",
       "    </tr>\n",
       "    <tr>\n",
       "      <th>4</th>\n",
       "      <td>0</td>\n",
       "      <td>0</td>\n",
       "      <td>0</td>\n",
       "      <td>1</td>\n",
       "      <td>7</td>\n",
       "      <td>3</td>\n",
       "      <td>289</td>\n",
       "      <td>33</td>\n",
       "      <td>239.554</td>\n",
       "      <td>1</td>\n",
       "      <td>2</td>\n",
       "      <td>1</td>\n",
       "    </tr>\n",
       "    <tr>\n",
       "      <th>...</th>\n",
       "      <td>...</td>\n",
       "      <td>...</td>\n",
       "      <td>...</td>\n",
       "      <td>...</td>\n",
       "      <td>...</td>\n",
       "      <td>...</td>\n",
       "      <td>...</td>\n",
       "      <td>...</td>\n",
       "      <td>...</td>\n",
       "      <td>...</td>\n",
       "      <td>...</td>\n",
       "      <td>...</td>\n",
       "    </tr>\n",
       "    <tr>\n",
       "      <th>695</th>\n",
       "      <td>1</td>\n",
       "      <td>0</td>\n",
       "      <td>0</td>\n",
       "      <td>0</td>\n",
       "      <td>5</td>\n",
       "      <td>2</td>\n",
       "      <td>179</td>\n",
       "      <td>40</td>\n",
       "      <td>237.656</td>\n",
       "      <td>2</td>\n",
       "      <td>2</td>\n",
       "      <td>0</td>\n",
       "    </tr>\n",
       "    <tr>\n",
       "      <th>696</th>\n",
       "      <td>1</td>\n",
       "      <td>0</td>\n",
       "      <td>0</td>\n",
       "      <td>0</td>\n",
       "      <td>5</td>\n",
       "      <td>2</td>\n",
       "      <td>225</td>\n",
       "      <td>28</td>\n",
       "      <td>237.656</td>\n",
       "      <td>1</td>\n",
       "      <td>1</td>\n",
       "      <td>2</td>\n",
       "    </tr>\n",
       "    <tr>\n",
       "      <th>697</th>\n",
       "      <td>1</td>\n",
       "      <td>0</td>\n",
       "      <td>0</td>\n",
       "      <td>0</td>\n",
       "      <td>5</td>\n",
       "      <td>3</td>\n",
       "      <td>330</td>\n",
       "      <td>28</td>\n",
       "      <td>237.656</td>\n",
       "      <td>2</td>\n",
       "      <td>0</td>\n",
       "      <td>0</td>\n",
       "    </tr>\n",
       "    <tr>\n",
       "      <th>698</th>\n",
       "      <td>0</td>\n",
       "      <td>0</td>\n",
       "      <td>0</td>\n",
       "      <td>1</td>\n",
       "      <td>5</td>\n",
       "      <td>3</td>\n",
       "      <td>235</td>\n",
       "      <td>32</td>\n",
       "      <td>237.656</td>\n",
       "      <td>3</td>\n",
       "      <td>0</td>\n",
       "      <td>0</td>\n",
       "    </tr>\n",
       "    <tr>\n",
       "      <th>699</th>\n",
       "      <td>0</td>\n",
       "      <td>0</td>\n",
       "      <td>0</td>\n",
       "      <td>1</td>\n",
       "      <td>5</td>\n",
       "      <td>3</td>\n",
       "      <td>291</td>\n",
       "      <td>40</td>\n",
       "      <td>237.656</td>\n",
       "      <td>1</td>\n",
       "      <td>1</td>\n",
       "      <td>1</td>\n",
       "    </tr>\n",
       "  </tbody>\n",
       "</table>\n",
       "<p>700 rows × 12 columns</p>\n",
       "</div>"
      ],
      "text/plain": [
       "     reasonCategory_1  reasonCategory_2  reasonCategory_3  reasonCategory_4  \\\n",
       "0                   0                 0                 0                 1   \n",
       "1                   0                 0                 0                 0   \n",
       "2                   0                 0                 0                 1   \n",
       "3                   1                 0                 0                 0   \n",
       "4                   0                 0                 0                 1   \n",
       "..                ...               ...               ...               ...   \n",
       "695                 1                 0                 0                 0   \n",
       "696                 1                 0                 0                 0   \n",
       "697                 1                 0                 0                 0   \n",
       "698                 0                 0                 0                 1   \n",
       "699                 0                 0                 0                 1   \n",
       "\n",
       "     Month  Weekday  TranspExpense  Age  DailyWorkLoadAvg  Education  \\\n",
       "0        7        1            289   33           239.554          1   \n",
       "1        7        1            118   50           239.554          1   \n",
       "2        7        2            179   38           239.554          1   \n",
       "3        7        3            279   39           239.554          1   \n",
       "4        7        3            289   33           239.554          1   \n",
       "..     ...      ...            ...  ...               ...        ...   \n",
       "695      5        2            179   40           237.656          2   \n",
       "696      5        2            225   28           237.656          1   \n",
       "697      5        3            330   28           237.656          2   \n",
       "698      5        3            235   32           237.656          3   \n",
       "699      5        3            291   40           237.656          1   \n",
       "\n",
       "     Children  Pets  \n",
       "0           2     1  \n",
       "1           1     0  \n",
       "2           0     0  \n",
       "3           2     0  \n",
       "4           2     1  \n",
       "..        ...   ...  \n",
       "695         2     0  \n",
       "696         1     2  \n",
       "697         0     0  \n",
       "698         0     0  \n",
       "699         1     1  \n",
       "\n",
       "[700 rows x 12 columns]"
      ]
     },
     "execution_count": 93,
     "metadata": {},
     "output_type": "execute_result"
    }
   ],
   "source": [
    "unscaled_inputs = data.iloc[:,:-1] # all rows, columns from 1st to second last (13th)\n",
    "unscaled_inputs"
   ]
  },
  {
   "attachments": {},
   "cell_type": "markdown",
   "metadata": {},
   "source": [
    "### Standardizing the Data"
   ]
  },
  {
   "attachments": {},
   "cell_type": "markdown",
   "metadata": {},
   "source": [
    "The scaler will subtract the mean of each variable and divide by the standard deviation\n",
    "\n",
    "The correct would be to apply it to all the data except for the dummy variables"
   ]
  },
  {
   "cell_type": "code",
   "execution_count": 94,
   "metadata": {},
   "outputs": [
    {
     "data": {
      "text/plain": [
       "array([[-0.57735027, -0.09298136, -0.31448545, ..., -0.42368477,\n",
       "         0.88046927,  0.26848661],\n",
       "       [-0.57735027, -0.09298136, -0.31448545, ..., -0.42368477,\n",
       "        -0.01928035, -0.58968976],\n",
       "       [-0.57735027, -0.09298136, -0.31448545, ..., -0.42368477,\n",
       "        -0.91902997, -0.58968976],\n",
       "       ...,\n",
       "       [ 1.73205081, -0.09298136, -0.31448545, ...,  1.07419067,\n",
       "        -0.91902997, -0.58968976],\n",
       "       [-0.57735027, -0.09298136, -0.31448545, ...,  2.57206611,\n",
       "        -0.91902997, -0.58968976],\n",
       "       [-0.57735027, -0.09298136, -0.31448545, ..., -0.42368477,\n",
       "        -0.01928035,  0.26848661]])"
      ]
     },
     "execution_count": 94,
     "metadata": {},
     "output_type": "execute_result"
    }
   ],
   "source": [
    "#This will standardize all the data\n",
    "\n",
    "absenteeism_scaler = StandardScaler()\n",
    "\n",
    "absenteeism_scaler.fit(unscaled_inputs) # the scaled information will be stored in the 'absenteeism_scaler'\n",
    "\n",
    "inputs = absenteeism_scaler.transform(unscaled_inputs) # applying the standardization\n",
    "\n",
    "inputs"
   ]
  },
  {
   "attachments": {},
   "cell_type": "markdown",
   "metadata": {},
   "source": [
    "### Splitting the data"
   ]
  },
  {
   "cell_type": "code",
   "execution_count": 95,
   "metadata": {},
   "outputs": [
    {
     "name": "stdout",
     "output_type": "stream",
     "text": [
      "(140, 12) (560, 12) (140,) (560,)\n"
     ]
    }
   ],
   "source": [
    "x_train, x_test, y_train, y_test = train_test_split(inputs, targets, train_size=0.2, random_state=42)\n",
    "\n",
    "print (x_train.shape,x_test.shape,y_train.shape,y_test.shape)\n",
    "\n",
    "#the targets only have one column"
   ]
  },
  {
   "attachments": {},
   "cell_type": "markdown",
   "metadata": {},
   "source": [
    "##  Modeling"
   ]
  },
  {
   "attachments": {},
   "cell_type": "markdown",
   "metadata": {},
   "source": [
    "### Training"
   ]
  },
  {
   "cell_type": "code",
   "execution_count": 96,
   "metadata": {},
   "outputs": [
    {
     "data": {
      "text/plain": [
       "0.7857142857142857"
      ]
     },
     "execution_count": 96,
     "metadata": {},
     "output_type": "execute_result"
    }
   ],
   "source": [
    "reg = LogisticRegression()\n",
    "\n",
    "reg.fit(x_train,y_train) #regression itself\n",
    "\n",
    "reg.score(x_train,y_train)"
   ]
  },
  {
   "attachments": {},
   "cell_type": "markdown",
   "metadata": {},
   "source": [
    "    Train accuracy = ~78.57%"
   ]
  },
  {
   "cell_type": "code",
   "execution_count": 97,
   "metadata": {},
   "outputs": [
    {
     "data": {
      "text/plain": [
       "array([-0.0747047])"
      ]
     },
     "execution_count": 97,
     "metadata": {},
     "output_type": "execute_result"
    }
   ],
   "source": [
    "reg.intercept_ # aka 'bias'"
   ]
  },
  {
   "cell_type": "code",
   "execution_count": 98,
   "metadata": {},
   "outputs": [
    {
     "data": {
      "text/plain": [
       "array([[ 1.56559437, -0.16039218,  1.26509042,  1.00356202,  0.131941  ,\n",
       "        -0.10042155,  0.71688452,  0.15964948, -0.12868318,  0.13861867,\n",
       "         0.20410254, -0.22862932]])"
      ]
     },
     "execution_count": 98,
     "metadata": {},
     "output_type": "execute_result"
    }
   ],
   "source": [
    "reg.coef_ # aka 'weights'"
   ]
  },
  {
   "attachments": {},
   "cell_type": "markdown",
   "metadata": {},
   "source": [
    "    Summary table"
   ]
  },
  {
   "cell_type": "code",
   "execution_count": 99,
   "metadata": {},
   "outputs": [
    {
     "data": {
      "text/html": [
       "<div>\n",
       "<style scoped>\n",
       "    .dataframe tbody tr th:only-of-type {\n",
       "        vertical-align: middle;\n",
       "    }\n",
       "\n",
       "    .dataframe tbody tr th {\n",
       "        vertical-align: top;\n",
       "    }\n",
       "\n",
       "    .dataframe thead th {\n",
       "        text-align: right;\n",
       "    }\n",
       "</style>\n",
       "<table border=\"1\" class=\"dataframe\">\n",
       "  <thead>\n",
       "    <tr style=\"text-align: right;\">\n",
       "      <th></th>\n",
       "      <th>Variable</th>\n",
       "      <th>Coefficient</th>\n",
       "    </tr>\n",
       "  </thead>\n",
       "  <tbody>\n",
       "    <tr>\n",
       "      <th>0</th>\n",
       "      <td>reasonCategory_1</td>\n",
       "      <td>1.565594</td>\n",
       "    </tr>\n",
       "    <tr>\n",
       "      <th>2</th>\n",
       "      <td>reasonCategory_3</td>\n",
       "      <td>1.265090</td>\n",
       "    </tr>\n",
       "    <tr>\n",
       "      <th>3</th>\n",
       "      <td>reasonCategory_4</td>\n",
       "      <td>1.003562</td>\n",
       "    </tr>\n",
       "    <tr>\n",
       "      <th>6</th>\n",
       "      <td>TranspExpense</td>\n",
       "      <td>0.716885</td>\n",
       "    </tr>\n",
       "    <tr>\n",
       "      <th>10</th>\n",
       "      <td>Children</td>\n",
       "      <td>0.204103</td>\n",
       "    </tr>\n",
       "    <tr>\n",
       "      <th>7</th>\n",
       "      <td>Age</td>\n",
       "      <td>0.159649</td>\n",
       "    </tr>\n",
       "    <tr>\n",
       "      <th>9</th>\n",
       "      <td>Education</td>\n",
       "      <td>0.138619</td>\n",
       "    </tr>\n",
       "    <tr>\n",
       "      <th>4</th>\n",
       "      <td>Month</td>\n",
       "      <td>0.131941</td>\n",
       "    </tr>\n",
       "    <tr>\n",
       "      <th>5</th>\n",
       "      <td>Weekday</td>\n",
       "      <td>-0.100422</td>\n",
       "    </tr>\n",
       "    <tr>\n",
       "      <th>8</th>\n",
       "      <td>DailyWorkLoadAvg</td>\n",
       "      <td>-0.128683</td>\n",
       "    </tr>\n",
       "    <tr>\n",
       "      <th>1</th>\n",
       "      <td>reasonCategory_2</td>\n",
       "      <td>-0.160392</td>\n",
       "    </tr>\n",
       "    <tr>\n",
       "      <th>11</th>\n",
       "      <td>Pets</td>\n",
       "      <td>-0.228629</td>\n",
       "    </tr>\n",
       "  </tbody>\n",
       "</table>\n",
       "</div>"
      ],
      "text/plain": [
       "            Variable  Coefficient\n",
       "0   reasonCategory_1     1.565594\n",
       "2   reasonCategory_3     1.265090\n",
       "3   reasonCategory_4     1.003562\n",
       "6      TranspExpense     0.716885\n",
       "10          Children     0.204103\n",
       "7                Age     0.159649\n",
       "9          Education     0.138619\n",
       "4              Month     0.131941\n",
       "5            Weekday    -0.100422\n",
       "8   DailyWorkLoadAvg    -0.128683\n",
       "1   reasonCategory_2    -0.160392\n",
       "11              Pets    -0.228629"
      ]
     },
     "execution_count": 99,
     "metadata": {},
     "output_type": "execute_result"
    }
   ],
   "source": [
    "variables = unscaled_inputs.columns.values\n",
    "\n",
    "summary = pd.DataFrame(columns=['Variable'], data=variables)\n",
    "\n",
    "summary['Coefficient'] = np.transpose(reg.coef_) # we need to transpose because by default nd arrays are rows and not columns\n",
    "\n",
    "summary.sort_values('Coefficient', ascending=False)"
   ]
  },
  {
   "attachments": {},
   "cell_type": "markdown",
   "metadata": {},
   "source": [
    "    Since we have coefficients that approach zero ('DistanceToWork','BodyMassIndex'), we will go back before the training and remove those columns in order to simplify the model"
   ]
  },
  {
   "attachments": {},
   "cell_type": "markdown",
   "metadata": {},
   "source": [
    "### Test"
   ]
  },
  {
   "cell_type": "code",
   "execution_count": 100,
   "metadata": {},
   "outputs": [
    {
     "data": {
      "text/plain": [
       "0.7410714285714286"
      ]
     },
     "execution_count": 100,
     "metadata": {},
     "output_type": "execute_result"
    }
   ],
   "source": [
    "reg.score(x_test,y_test)"
   ]
  },
  {
   "attachments": {},
   "cell_type": "markdown",
   "metadata": {},
   "source": [
    "    Test accuracy = ~74.11%"
   ]
  },
  {
   "cell_type": "code",
   "execution_count": 101,
   "metadata": {},
   "outputs": [
    {
     "data": {
      "text/plain": [
       "array([0.01046799, 0.29298034, 0.39237441, 0.42090102, 0.60552052,\n",
       "       0.78755652, 0.44107065, 0.57516479, 0.09907572, 0.34740424,\n",
       "       0.26511798, 0.48979576, 0.55302114, 0.52143751, 0.22075622,\n",
       "       0.61884678, 0.03778501, 0.82785736, 0.272954  , 0.55507677,\n",
       "       0.20783734, 0.26418882, 0.29543645, 0.51263971, 0.21279415,\n",
       "       0.84800358, 0.56146494, 0.1618355 , 0.24104902, 0.43428523,\n",
       "       0.1029369 , 0.16917585, 0.43925825, 0.56750522, 0.17571072,\n",
       "       0.77945459, 0.26798102, 0.17131052, 0.81790791, 0.15427626,\n",
       "       0.61404943, 0.28992523, 0.48854179, 0.25400188, 0.24476853,\n",
       "       0.60743387, 0.80884955, 0.85549668, 0.31228962, 0.25495257,\n",
       "       0.30277523, 0.27095215, 0.58483837, 0.90842605, 0.18051991,\n",
       "       0.28433419, 0.94586539, 0.19624715, 0.89633772, 0.01882762,\n",
       "       0.82345799, 0.14077193, 0.50582237, 0.58422095, 0.26511798,\n",
       "       0.15133224, 0.53550749, 0.04494859, 0.21318174, 0.55471462,\n",
       "       0.34740424, 0.2760784 , 0.74117403, 0.27095215, 0.22344624,\n",
       "       0.76020637, 0.56277708, 0.22586482, 0.18101283, 0.18338409,\n",
       "       0.78755652, 0.8948833 , 0.16106653, 0.23142044, 0.10937635,\n",
       "       0.83637176, 0.26296642, 0.85150269, 0.84352655, 0.29789968,\n",
       "       0.32244249, 0.65015562, 0.29165092, 0.25194162, 0.56148762,\n",
       "       0.81790791, 0.47855354, 0.93460144, 0.46331213, 0.56387917,\n",
       "       0.48342037, 0.70567376, 0.25753338, 0.67892559, 0.32109975,\n",
       "       0.49246959, 0.88616409, 0.15427626, 0.16794849, 0.64723324,\n",
       "       0.58939278, 0.58624239, 0.5043878 , 0.53440832, 0.65159729,\n",
       "       0.67001712, 0.4972554 , 0.79735682, 0.57988168, 0.944608  ,\n",
       "       0.30501689, 0.86379483, 0.72823687, 0.63812452, 0.75623888,\n",
       "       0.28198703, 0.25753338, 0.47715626, 0.65452164, 0.19092042,\n",
       "       0.32315171, 0.01290125, 0.81915339, 0.45029719, 0.29102077,\n",
       "       0.94885434, 0.4746835 , 0.59017238, 0.51221621, 0.15890931,\n",
       "       0.61442001, 0.05873461, 0.86495599, 0.26511798, 0.18912374,\n",
       "       0.5881477 , 0.80662408, 0.1351734 , 0.18616212, 0.61963267,\n",
       "       0.92099705, 0.54999471, 0.49727866, 0.46536444, 0.62951915,\n",
       "       0.11234229, 0.57501527, 0.2781088 , 0.75415123, 0.235675  ,\n",
       "       0.2329351 , 0.26418882, 0.3296773 , 0.48604259, 0.59823363,\n",
       "       0.58734925, 0.87617645, 0.22914471, 0.916376  , 0.19688252,\n",
       "       0.28433419, 0.73386598, 0.48515689, 0.18838904, 0.92082118,\n",
       "       0.82327408, 0.51221621, 0.49475565, 0.29102077, 0.62733485,\n",
       "       0.12038164, 0.21994337, 0.71183615, 0.6000502 , 0.48694355,\n",
       "       0.24499263, 0.17490263, 0.60741878, 0.61325087, 0.60001065,\n",
       "       0.80794519, 0.25007483, 0.56277708, 0.2815052 , 0.47262723,\n",
       "       0.54414574, 0.19535522, 0.94184956, 0.92090964, 0.3042885 ,\n",
       "       0.29789968, 0.54711924, 0.20678359, 0.62349773, 0.26279093,\n",
       "       0.90262027, 0.66315868, 0.324458  , 0.537957  , 0.90432905,\n",
       "       0.9513134 , 0.25753338, 0.57516479, 0.57682551, 0.55478009,\n",
       "       0.97307692, 0.25398562, 0.98109943, 0.26706118, 0.6888026 ,\n",
       "       0.50960906, 0.75753364, 0.62930791, 0.64723324, 0.7794112 ,\n",
       "       0.25806579, 0.55849899, 0.56279737, 0.65420028, 0.67001712,\n",
       "       0.25048181, 0.15286192, 0.55527659, 0.56979332, 0.851144  ,\n",
       "       0.22586482, 0.89633772, 0.53873576, 0.88048406, 0.31631702,\n",
       "       0.45199649, 0.56366933, 0.25479388, 0.89718885, 0.53819418,\n",
       "       0.0347273 , 0.53912445, 0.18303224, 0.53792778, 0.03858657,\n",
       "       0.41352028, 0.94285723, 0.480172  , 0.49677117, 0.59791168,\n",
       "       0.30937372, 0.12882379, 0.52724052, 0.25806579, 0.47316771,\n",
       "       0.27806303, 0.50211994, 0.21136235, 0.87903843, 0.82365959,\n",
       "       0.18051991, 0.21421676, 0.19512675, 0.79629987, 0.27095215,\n",
       "       0.25260157, 0.20201707, 0.1029369 , 0.29506049, 0.41635697,\n",
       "       0.5841315 , 0.66195829, 0.66186269, 0.48342037, 0.44393205,\n",
       "       0.62187053, 0.73695821, 0.48515689, 0.44268071, 0.66228502,\n",
       "       0.80740337, 0.55527659, 0.94805454, 0.41970994, 0.52064596,\n",
       "       0.24476853, 0.51176991, 0.85874876, 0.14742769, 0.3188469 ,\n",
       "       0.83161237, 0.43949842, 0.53694942, 0.17309917, 0.64092022,\n",
       "       0.88623464, 0.85413049, 0.97293173, 0.26475964, 0.53727316,\n",
       "       0.24476853, 0.2914104 , 0.52839267, 0.49544423, 0.20047694,\n",
       "       0.18113445, 0.10937635, 0.2681846 , 0.56521267, 0.21112006,\n",
       "       0.3003965 , 0.55603935, 0.19756998, 0.65898218, 0.2324383 ,\n",
       "       0.51745175, 0.18767165, 0.57316234, 0.61504509, 0.58050636,\n",
       "       0.84859469, 0.23031494, 0.14122347, 0.7013809 , 0.89648834,\n",
       "       0.49544423, 0.60706328, 0.81790791, 0.66168584, 0.26363338,\n",
       "       0.43477786, 0.1967556 , 0.25565366, 0.92475601, 0.92678804,\n",
       "       0.71132445, 0.09683535, 0.2681846 , 0.34740424, 0.86789152,\n",
       "       0.20201707, 0.18524039, 0.54526963, 0.25088893, 0.29011171,\n",
       "       0.15907938, 0.72794015, 0.24371383, 0.97320426, 0.09379326,\n",
       "       0.91883366, 0.93671289, 0.62579352, 0.26437884, 0.51708865,\n",
       "       0.83492913, 0.37830473, 0.66280745, 0.56229701, 0.8205345 ,\n",
       "       0.9217484 , 0.50405931, 0.1660584 , 0.24476853, 0.4836469 ,\n",
       "       0.25724867, 0.24978416, 0.6037103 , 0.13571597, 0.27003099,\n",
       "       0.61490027, 0.17571072, 0.24978416, 0.62951915, 0.45948731,\n",
       "       0.53575074, 0.88124985, 0.45508023, 0.25416076, 0.21210141,\n",
       "       0.272954  , 0.46260777, 0.28461829, 0.09352971, 0.47040004,\n",
       "       0.562697  , 0.61908322, 0.16205763, 0.59293598, 0.22237797,\n",
       "       0.79083757, 0.72393611, 0.85036219, 0.62788778, 0.57621246,\n",
       "       0.77537315, 0.20956043, 0.2329351 , 0.57147857, 0.3919185 ,\n",
       "       0.45053368, 0.52913568, 0.704667  , 0.62281385, 0.20301187,\n",
       "       0.82522819, 0.59314546, 0.28654033, 0.92444672, 0.19340199,\n",
       "       0.93582685, 0.27030315, 0.26071022, 0.78273608, 0.8697753 ,\n",
       "       0.75415123, 0.21210141, 0.43949842, 0.61587828, 0.39394021,\n",
       "       0.53127256, 0.63901508, 0.17119568, 0.57529249, 0.21421676,\n",
       "       0.26563125, 0.21375121, 0.40520754, 0.67560075, 0.64092022,\n",
       "       0.5970083 , 0.22586482, 0.76216572, 0.95092884, 0.11616647,\n",
       "       0.03145001, 0.52149182, 0.19129495, 0.18065392, 0.93925468,\n",
       "       0.58028664, 0.26511798, 0.72056538, 0.03936806, 0.43379174,\n",
       "       0.04803698, 0.80068523, 0.8243737 , 0.24028705, 0.61908322,\n",
       "       0.28654033, 0.55153556, 0.69541589, 0.08759962, 0.272954  ,\n",
       "       0.21241316, 0.16561844, 0.52805594, 0.89894885, 0.52300468,\n",
       "       0.95392096, 0.6763923 , 0.31103721, 0.81353975, 0.81730276,\n",
       "       0.59349854, 0.20026871, 0.77945459, 0.5857846 , 0.3003965 ,\n",
       "       0.43758826, 0.23398913, 0.25188536, 0.58336397, 0.55258735,\n",
       "       0.29008627, 0.12331975, 0.28074331, 0.55037138, 0.56177834,\n",
       "       0.91004434, 0.28863969, 0.47695441, 0.23487828, 0.28654033,\n",
       "       0.62496382, 0.94923789, 0.24665793, 0.28654033, 0.85485118,\n",
       "       0.22289923, 0.30998179, 0.38143921, 0.8592235 , 0.20565207,\n",
       "       0.21733413, 0.11616647, 0.20301187, 0.85441854, 0.43657999,\n",
       "       0.1301329 , 0.27003099, 0.32310743, 0.91948848, 0.53819418,\n",
       "       0.60076505, 0.52349082, 0.78540717, 0.03804906, 0.32023718,\n",
       "       0.21318174, 0.21854742, 0.7413782 , 0.16665567, 0.52651113,\n",
       "       0.81612614, 0.55475105, 0.77515709, 0.1912767 , 0.84948773,\n",
       "       0.47568804, 0.37610796, 0.85593422, 0.03614532, 0.27072531,\n",
       "       0.58160306, 0.20956043, 0.46103939, 0.41762199, 0.91216338,\n",
       "       0.16837175, 0.47695441, 0.2803001 , 0.5428092 , 0.20301187,\n",
       "       0.55803342, 0.49514614, 0.10781549, 0.51409924, 0.94946979,\n",
       "       0.25194162, 0.19111043, 0.61838442, 0.58915026, 0.2329351 ,\n",
       "       0.47672134, 0.68579831, 0.44482461, 0.82271168, 0.29602324,\n",
       "       0.28863969, 0.82330247, 0.30611944, 0.91768552, 0.92832823])"
      ]
     },
     "execution_count": 101,
     "metadata": {},
     "output_type": "execute_result"
    }
   ],
   "source": [
    "model_predict = reg.predict_proba(x_test)\n",
    "\n",
    "# probability > 0.5 = 1\n",
    "# probability < 0.5 = 0\n",
    "\n",
    "model_predict[:,1] "
   ]
  },
  {
   "attachments": {},
   "cell_type": "markdown",
   "metadata": {},
   "source": [
    "## Saving the model\n",
    "\n",
    "The file has to store the biases and weights obtained with the logistic regression -> object 'reg'"
   ]
  },
  {
   "attachments": {},
   "cell_type": "markdown",
   "metadata": {},
   "source": [
    "    Pickling => pickle[module] is used for converting a Python object into a character stream\n",
    "\n",
    "Also allows it to be easily shared and imported on other codes (simmilar to a zip file)"
   ]
  },
  {
   "cell_type": "code",
   "execution_count": 102,
   "metadata": {},
   "outputs": [],
   "source": [
    "# saving the model\n",
    "\n",
    "with open('db/AbsenteeismCase_model','wb') as file: # wb = write bytes\n",
    "    pickle.dump(reg, file) # dump => insert/save the information on the file"
   ]
  },
  {
   "cell_type": "code",
   "execution_count": 103,
   "metadata": {},
   "outputs": [],
   "source": [
    "# saving the scaler\n",
    "\n",
    "with open('db/AbsenteeismCase_scaler','wb') as file:\n",
    "    pickle.dump(absenteeism_scaler, file)\n"
   ]
  }
 ],
 "metadata": {
  "kernelspec": {
   "display_name": "Python 3",
   "language": "python",
   "name": "python3"
  },
  "language_info": {
   "codemirror_mode": {
    "name": "ipython",
    "version": 3
   },
   "file_extension": ".py",
   "mimetype": "text/x-python",
   "name": "python",
   "nbconvert_exporter": "python",
   "pygments_lexer": "ipython3",
   "version": "3.9.13"
  },
  "orig_nbformat": 4
 },
 "nbformat": 4,
 "nbformat_minor": 2
}
