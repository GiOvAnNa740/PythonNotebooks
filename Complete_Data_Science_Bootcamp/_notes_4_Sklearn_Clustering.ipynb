{
 "cells": [
  {
   "attachments": {},
   "cell_type": "markdown",
   "metadata": {},
   "source": [
    "# Clustering\n",
    "\n",
    "Usually used for Market and Image segmentation. \n",
    "\n",
    "Used for exploring data and identifying patters.\n",
    "\n",
    "Unsupervized data, since the data is not labeled"
   ]
  },
  {
   "attachments": {},
   "cell_type": "markdown",
   "metadata": {},
   "source": [
    "## K-Means\n",
    "\n",
    "\n",
    "1- Choose the number of clusters\n",
    "\n",
    "2- Specify cluster seeds\n",
    "\n",
    "3- assign each point to a centroid\n",
    "\n",
    "4- Adjust the centroids"
   ]
  },
  {
   "cell_type": "code",
   "execution_count": null,
   "metadata": {},
   "outputs": [],
   "source": []
  }
 ],
 "metadata": {
  "language_info": {
   "name": "python"
  },
  "orig_nbformat": 4
 },
 "nbformat": 4,
 "nbformat_minor": 2
}
