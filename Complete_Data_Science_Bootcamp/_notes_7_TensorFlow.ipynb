{
 "cells": [
  {
   "attachments": {},
   "cell_type": "markdown",
   "metadata": {},
   "source": [
    "## TensorFlow\n",
    "\n",
    "-   Used on Machine Learning and Deep Learning (Considered better)\n",
    "\n",
    "-   Created by Google\n",
    "\n",
    "-   Uses both CPU and GPU"
   ]
  },
  {
   "attachments": {},
   "cell_type": "markdown",
   "metadata": {},
   "source": [
    "Does not work well with .csv or .xlxs, it works with Tensors"
   ]
  },
  {
   "cell_type": "code",
   "execution_count": 2,
   "metadata": {},
   "outputs": [],
   "source": [
    "import numpy as np\n",
    "import matplotlib.pyplot as plt \n",
    "import tensorflow as tf"
   ]
  },
  {
   "attachments": {},
   "cell_type": "markdown",
   "metadata": {},
   "source": [
    "Random Data Generation"
   ]
  },
  {
   "cell_type": "code",
   "execution_count": 3,
   "metadata": {},
   "outputs": [],
   "source": [
    "observations = 1000\n",
    "\n",
    "xs = np.random.uniform(low=-10,high=10,size=(observations,1)) #(lowest point, highest point, interval)\n",
    "zs = np.random.uniform(-10,10,(observations,1)) #the variables do not need to be declared, just specified in the correct order\n",
    "\n",
    "rd_inputs = np.column_stack((xs,zs)) #combining xs and zs\n",
    "\n",
    "noise = np.random.uniform(-1,1,(observations,1))\n",
    "\n",
    "# arbitrary target function \n",
    "rd_targets = 2*xs-3*zs+5+noise # the noise is to add a little of randomization to the data so it wont be perfect\n",
    "\n",
    "np.savez('TF_intro', inputs=rd_inputs,targets=rd_targets) #Saving the data as a Tensor"
   ]
  }
 ],
 "metadata": {
  "kernelspec": {
   "display_name": "Python 3",
   "language": "python",
   "name": "python3"
  },
  "language_info": {
   "codemirror_mode": {
    "name": "ipython",
    "version": 3
   },
   "file_extension": ".py",
   "mimetype": "text/x-python",
   "name": "python",
   "nbconvert_exporter": "python",
   "pygments_lexer": "ipython3",
   "version": "3.9.13"
  },
  "orig_nbformat": 4
 },
 "nbformat": 4,
 "nbformat_minor": 2
}
