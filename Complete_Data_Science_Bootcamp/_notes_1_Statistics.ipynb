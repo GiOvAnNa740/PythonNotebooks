{
 "cells": [
  {
   "cell_type": "code",
   "execution_count": 11,
   "metadata": {},
   "outputs": [],
   "source": [
    "#imports\n",
    "\n",
    "import numpy as np\n",
    "import pandas as pd\n",
    "import scipy\n",
    "import matplotlib as plt\n",
    "import seaborn as sns\n",
    "import statsmodels.api as sm\n",
    "import sklearn"
   ]
  },
  {
   "attachments": {},
   "cell_type": "markdown",
   "metadata": {},
   "source": [
    "# Statistical Methods"
   ]
  },
  {
   "attachments": {},
   "cell_type": "markdown",
   "metadata": {},
   "source": [
    "# Linear Regression\n",
    "\n",
    "Linear approximation of a causal relationship between two or more variables\n",
    "\n",
    "! if the relationship between your data is not linear you should transform it before using this approach (using exponential transformation or log transformation)\n",
    "\n",
    "## Simple Linear Regression\n",
    "\n",
    "Only works for two variables X and Y\n",
    "\n",
    "$y = \\beta_{0}+\\beta_{1}x_{1}+\\epsilon$\n",
    "\n",
    "$y$ -> dependent variable\n",
    "\n",
    "$x$ -> independent variable\n",
    "\n",
    "Correlation != Regression\n",
    "\n",
    "Regression implies cause and effect\n",
    "\n",
    "## Multiple Linear Regression\n",
    "\n",
    "Accepts more factor for a more realistic approach\n",
    "\n",
    "Random data, that does not have any cause/efferct relationship, will make the regression imprecise\n",
    "\n",
    "$y = \\beta_{0}+\\beta_{1}x_{1}+\\beta_{2}x_{2}+...+\\beta_{k}x_{k}$\n"
   ]
  },
  {
   "attachments": {},
   "cell_type": "markdown",
   "metadata": {},
   "source": [
    "    #OLS - Ordinary Least Squares\n",
    "\n",
    "See: 'Simple Linear Regression Exercise.ipynb'\n",
    "\n",
    "\n",
    "x = sm.add_constant(x1)\n",
    "\n",
    "results = sm.OLS(y,x).fit() \n",
    "\n",
    "results.summary()"
   ]
  },
  {
   "attachments": {},
   "cell_type": "markdown",
   "metadata": {},
   "source": [
    "    #SST - Sum of Squares Total\n",
    "\n",
    "Dispersions of the observed variables around the mean\n",
    "\n",
    "    #SSR - Sum of Squares Regression\n",
    "\n",
    "Sum of the differences between the predicted value and the mean of the dependent variable. \n",
    "It describes how well your line fits the data\n",
    "\n",
    "    #SSE - Sum of Squares Error\n",
    "\n",
    "Measures de difference between the observed value and the predictive value\n",
    "\n",
    "    #R-Squared\n",
    "\n",
    "Gives you a percentage of how much your variables really 'explain' the data (how much the house size really explais its price). \n",
    "\n",
    "    #Adjsuted R-Squared \n",
    "\n",
    "Shows how well your model fits the data, but penalizes the use of multiple variables (usually shows a smaller value than the R-Squared)\n",
    "\n",
    "    #F-Statistic\n",
    "\n",
    "Determines the significance of the model, the lower the value, the last significant"
   ]
  },
  {
   "attachments": {},
   "cell_type": "markdown",
   "metadata": {},
   "source": [
    "    #Autocorrelations\n",
    "\n",
    "Is identified when there are patters on a graph that inicially seemed \"random\", if there is no pattern, there is no autocorrelation\n",
    "\n",
    "For this, the Linear Regression Model should not be used. Instead, use Autoregression model, Moving Average Model, Autoregressive Moving Average Model or Autoregressive Integrated Moving Average Model\n",
    "\n",
    "    #No Multicollinearity\n",
    "\n",
    "Its observed when 2 or more variables have a high correlation. \n",
    "\n",
    "When this happens you may drop one of the variables or turn then into only one. Keeping the analisys whith both is possible but can be tricky\n",
    "\n",
    "    #Dummy variables\n",
    "\n",
    "Map categorical/label variables into numerical 1's and 0's\n"
   ]
  }
 ],
 "metadata": {
  "kernelspec": {
   "display_name": "Python 3",
   "language": "python",
   "name": "python3"
  },
  "language_info": {
   "codemirror_mode": {
    "name": "ipython",
    "version": 3
   },
   "file_extension": ".py",
   "mimetype": "text/x-python",
   "name": "python",
   "nbconvert_exporter": "python",
   "pygments_lexer": "ipython3",
   "version": "3.9.13"
  },
  "orig_nbformat": 4
 },
 "nbformat": 4,
 "nbformat_minor": 2
}
